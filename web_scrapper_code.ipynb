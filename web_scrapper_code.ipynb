{
  "cells": [
    {
      "cell_type": "code",
      "execution_count": 2,
      "metadata": {
        "id": "o4ilxiD9sxR2"
      },
      "outputs": [],
      "source": [
        "#Starting with imports\n",
        "import numpy as np\n",
        "import pandas as pd\n",
        "import tensorflow as tf\n",
        "import requests\n",
        "from bs4 import BeautifulSoup"
      ]
    },
    {
      "cell_type": "code",
      "execution_count": 3,
      "metadata": {
        "colab": {
          "base_uri": "https://localhost:8080/",
          "height": 1000
        },
        "id": "h5B4T3fZtpsx",
        "outputId": "925373af-7b0c-4a66-f4e4-c7fc5e2e24c1"
      },
      "outputs": [
        {
          "output_type": "stream",
          "name": "stdout",
          "text": [
            "Looking in indexes: https://pypi.org/simple, https://us-python.pkg.dev/colab-wheels/public/simple/\n",
            "Collecting selenium\n",
            "  Downloading selenium-4.3.0-py3-none-any.whl (981 kB)\n",
            "\u001b[K     |████████████████████████████████| 981 kB 5.1 MB/s \n",
            "\u001b[?25hCollecting urllib3[secure,socks]~=1.26\n",
            "  Downloading urllib3-1.26.10-py2.py3-none-any.whl (139 kB)\n",
            "\u001b[K     |████████████████████████████████| 139 kB 50.3 MB/s \n",
            "\u001b[?25hCollecting trio-websocket~=0.9\n",
            "  Downloading trio_websocket-0.9.2-py3-none-any.whl (16 kB)\n",
            "Collecting trio~=0.17\n",
            "  Downloading trio-0.21.0-py3-none-any.whl (358 kB)\n",
            "\u001b[K     |████████████████████████████████| 358 kB 52.2 MB/s \n",
            "\u001b[?25hRequirement already satisfied: attrs>=19.2.0 in /usr/local/lib/python3.7/dist-packages (from trio~=0.17->selenium) (21.4.0)\n",
            "Collecting sniffio\n",
            "  Downloading sniffio-1.2.0-py3-none-any.whl (10 kB)\n",
            "Collecting outcome\n",
            "  Downloading outcome-1.2.0-py2.py3-none-any.whl (9.7 kB)\n",
            "Requirement already satisfied: sortedcontainers in /usr/local/lib/python3.7/dist-packages (from trio~=0.17->selenium) (2.4.0)\n",
            "Collecting async-generator>=1.9\n",
            "  Downloading async_generator-1.10-py3-none-any.whl (18 kB)\n",
            "Requirement already satisfied: idna in /usr/local/lib/python3.7/dist-packages (from trio~=0.17->selenium) (2.10)\n",
            "Collecting wsproto>=0.14\n",
            "  Downloading wsproto-1.1.0-py3-none-any.whl (24 kB)\n",
            "Requirement already satisfied: certifi in /usr/local/lib/python3.7/dist-packages (from urllib3[secure,socks]~=1.26->selenium) (2022.6.15)\n",
            "Collecting cryptography>=1.3.4\n",
            "  Downloading cryptography-37.0.4-cp36-abi3-manylinux_2_24_x86_64.whl (4.1 MB)\n",
            "\u001b[K     |████████████████████████████████| 4.1 MB 46.7 MB/s \n",
            "\u001b[?25hCollecting pyOpenSSL>=0.14\n",
            "  Downloading pyOpenSSL-22.0.0-py2.py3-none-any.whl (55 kB)\n",
            "\u001b[K     |████████████████████████████████| 55 kB 4.5 MB/s \n",
            "\u001b[?25hRequirement already satisfied: PySocks!=1.5.7,<2.0,>=1.5.6 in /usr/local/lib/python3.7/dist-packages (from urllib3[secure,socks]~=1.26->selenium) (1.7.1)\n",
            "Requirement already satisfied: cffi>=1.12 in /usr/local/lib/python3.7/dist-packages (from cryptography>=1.3.4->urllib3[secure,socks]~=1.26->selenium) (1.15.1)\n",
            "Requirement already satisfied: pycparser in /usr/local/lib/python3.7/dist-packages (from cffi>=1.12->cryptography>=1.3.4->urllib3[secure,socks]~=1.26->selenium) (2.21)\n",
            "Collecting h11<1,>=0.9.0\n",
            "  Downloading h11-0.13.0-py3-none-any.whl (58 kB)\n",
            "\u001b[K     |████████████████████████████████| 58 kB 6.1 MB/s \n",
            "\u001b[?25hRequirement already satisfied: typing-extensions in /usr/local/lib/python3.7/dist-packages (from h11<1,>=0.9.0->wsproto>=0.14->trio-websocket~=0.9->selenium) (4.1.1)\n",
            "Installing collected packages: sniffio, outcome, h11, cryptography, async-generator, wsproto, urllib3, trio, pyOpenSSL, trio-websocket, selenium\n",
            "  Attempting uninstall: urllib3\n",
            "    Found existing installation: urllib3 1.24.3\n",
            "    Uninstalling urllib3-1.24.3:\n",
            "      Successfully uninstalled urllib3-1.24.3\n",
            "\u001b[31mERROR: pip's dependency resolver does not currently take into account all the packages that are installed. This behaviour is the source of the following dependency conflicts.\n",
            "requests 2.23.0 requires urllib3!=1.25.0,!=1.25.1,<1.26,>=1.21.1, but you have urllib3 1.26.10 which is incompatible.\n",
            "datascience 0.10.6 requires folium==0.2.1, but you have folium 0.8.3 which is incompatible.\u001b[0m\n",
            "Successfully installed async-generator-1.10 cryptography-37.0.4 h11-0.13.0 outcome-1.2.0 pyOpenSSL-22.0.0 selenium-4.3.0 sniffio-1.2.0 trio-0.21.0 trio-websocket-0.9.2 urllib3-1.26.10 wsproto-1.1.0\n"
          ]
        },
        {
          "output_type": "display_data",
          "data": {
            "application/vnd.colab-display-data+json": {
              "pip_warning": {
                "packages": [
                  "urllib3"
                ]
              }
            }
          },
          "metadata": {}
        },
        {
          "output_type": "stream",
          "name": "stdout",
          "text": [
            "\r0% [Working]\r            \rGet:1 http://security.ubuntu.com/ubuntu bionic-security InRelease [88.7 kB]\n",
            "Get:2 https://developer.download.nvidia.com/compute/cuda/repos/ubuntu1804/x86_64  InRelease [1,581 B]\n",
            "Get:3 https://cloud.r-project.org/bin/linux/ubuntu bionic-cran40/ InRelease [3,626 B]\n",
            "Hit:4 http://archive.ubuntu.com/ubuntu bionic InRelease\n",
            "Get:5 http://archive.ubuntu.com/ubuntu bionic-updates InRelease [88.7 kB]\n",
            "Get:6 http://ppa.launchpad.net/c2d4u.team/c2d4u4.0+/ubuntu bionic InRelease [15.9 kB]\n",
            "Ign:7 https://developer.download.nvidia.com/compute/machine-learning/repos/ubuntu1804/x86_64  InRelease\n",
            "Hit:8 https://developer.download.nvidia.com/compute/machine-learning/repos/ubuntu1804/x86_64  Release\n",
            "Get:9 http://archive.ubuntu.com/ubuntu bionic-backports InRelease [74.6 kB]\n",
            "Get:10 https://developer.download.nvidia.com/compute/cuda/repos/ubuntu1804/x86_64  Packages [817 kB]\n",
            "Hit:11 http://ppa.launchpad.net/cran/libgit2/ubuntu bionic InRelease\n",
            "Get:12 https://cloud.r-project.org/bin/linux/ubuntu bionic-cran40/ Packages [85.6 kB]\n",
            "Hit:13 http://ppa.launchpad.net/deadsnakes/ppa/ubuntu bionic InRelease\n",
            "Get:14 http://security.ubuntu.com/ubuntu bionic-security/restricted amd64 Packages [1,063 kB]\n",
            "Hit:15 http://ppa.launchpad.net/graphics-drivers/ppa/ubuntu bionic InRelease\n",
            "Get:16 http://security.ubuntu.com/ubuntu bionic-security/universe amd64 Packages [1,527 kB]\n",
            "Get:17 http://security.ubuntu.com/ubuntu bionic-security/main amd64 Packages [2,901 kB]\n",
            "Get:19 http://archive.ubuntu.com/ubuntu bionic-updates/universe amd64 Packages [2,304 kB]\n",
            "Get:20 http://archive.ubuntu.com/ubuntu bionic-updates/main amd64 Packages [3,333 kB]\n",
            "Get:21 http://archive.ubuntu.com/ubuntu bionic-updates/restricted amd64 Packages [1,105 kB]\n",
            "Get:22 http://ppa.launchpad.net/c2d4u.team/c2d4u4.0+/ubuntu bionic/main Sources [2,075 kB]\n",
            "Get:23 http://ppa.launchpad.net/c2d4u.team/c2d4u4.0+/ubuntu bionic/main amd64 Packages [1,063 kB]\n",
            "Fetched 16.5 MB in 4s (4,441 kB/s)\n",
            "Reading package lists... Done\n",
            "Reading package lists... Done\n",
            "Building dependency tree       \n",
            "Reading state information... Done\n",
            "The following package was automatically installed and is no longer required:\n",
            "  libnvidia-common-460\n",
            "Use 'apt autoremove' to remove it.\n",
            "The following additional packages will be installed:\n",
            "  chromium-browser chromium-browser-l10n chromium-codecs-ffmpeg-extra\n",
            "Suggested packages:\n",
            "  webaccounts-chromium-extension unity-chromium-extension\n",
            "The following NEW packages will be installed:\n",
            "  chromium-browser chromium-browser-l10n chromium-chromedriver\n",
            "  chromium-codecs-ffmpeg-extra\n",
            "0 upgraded, 4 newly installed, 0 to remove and 71 not upgraded.\n",
            "Need to get 89.8 MB of archives.\n",
            "After this operation, 302 MB of additional disk space will be used.\n",
            "Get:1 http://archive.ubuntu.com/ubuntu bionic-updates/universe amd64 chromium-codecs-ffmpeg-extra amd64 101.0.4951.64-0ubuntu0.18.04.1 [1,142 kB]\n",
            "Get:2 http://archive.ubuntu.com/ubuntu bionic-updates/universe amd64 chromium-browser amd64 101.0.4951.64-0ubuntu0.18.04.1 [78.5 MB]\n",
            "Get:3 http://archive.ubuntu.com/ubuntu bionic-updates/universe amd64 chromium-browser-l10n all 101.0.4951.64-0ubuntu0.18.04.1 [4,980 kB]\n",
            "Get:4 http://archive.ubuntu.com/ubuntu bionic-updates/universe amd64 chromium-chromedriver amd64 101.0.4951.64-0ubuntu0.18.04.1 [5,153 kB]\n",
            "Fetched 89.8 MB in 2s (48.1 MB/s)\n",
            "Selecting previously unselected package chromium-codecs-ffmpeg-extra.\n",
            "(Reading database ... 155653 files and directories currently installed.)\n",
            "Preparing to unpack .../chromium-codecs-ffmpeg-extra_101.0.4951.64-0ubuntu0.18.04.1_amd64.deb ...\n",
            "Unpacking chromium-codecs-ffmpeg-extra (101.0.4951.64-0ubuntu0.18.04.1) ...\n",
            "Selecting previously unselected package chromium-browser.\n",
            "Preparing to unpack .../chromium-browser_101.0.4951.64-0ubuntu0.18.04.1_amd64.deb ...\n",
            "Unpacking chromium-browser (101.0.4951.64-0ubuntu0.18.04.1) ...\n",
            "Selecting previously unselected package chromium-browser-l10n.\n",
            "Preparing to unpack .../chromium-browser-l10n_101.0.4951.64-0ubuntu0.18.04.1_all.deb ...\n",
            "Unpacking chromium-browser-l10n (101.0.4951.64-0ubuntu0.18.04.1) ...\n",
            "Selecting previously unselected package chromium-chromedriver.\n",
            "Preparing to unpack .../chromium-chromedriver_101.0.4951.64-0ubuntu0.18.04.1_amd64.deb ...\n",
            "Unpacking chromium-chromedriver (101.0.4951.64-0ubuntu0.18.04.1) ...\n",
            "Setting up chromium-codecs-ffmpeg-extra (101.0.4951.64-0ubuntu0.18.04.1) ...\n",
            "Setting up chromium-browser (101.0.4951.64-0ubuntu0.18.04.1) ...\n",
            "update-alternatives: using /usr/bin/chromium-browser to provide /usr/bin/x-www-browser (x-www-browser) in auto mode\n",
            "update-alternatives: using /usr/bin/chromium-browser to provide /usr/bin/gnome-www-browser (gnome-www-browser) in auto mode\n",
            "Setting up chromium-chromedriver (101.0.4951.64-0ubuntu0.18.04.1) ...\n",
            "Setting up chromium-browser-l10n (101.0.4951.64-0ubuntu0.18.04.1) ...\n",
            "Processing triggers for man-db (2.8.3-2ubuntu0.1) ...\n",
            "Processing triggers for hicolor-icon-theme (0.17-2) ...\n",
            "Processing triggers for mime-support (3.60ubuntu1) ...\n",
            "Processing triggers for libc-bin (2.27-3ubuntu1.3) ...\n",
            "/sbin/ldconfig.real: /usr/local/lib/python3.7/dist-packages/ideep4py/lib/libmkldnn.so.0 is not a symbolic link\n",
            "\n"
          ]
        }
      ],
      "source": [
        "!pip install selenium\n",
        "!apt-get update\n",
        "!apt install chromium-chromedriver"
      ]
    },
    {
      "cell_type": "code",
      "execution_count": 4,
      "metadata": {
        "id": "Mf58JRUlG8GO"
      },
      "outputs": [],
      "source": [
        "from selenium import webdriver\n",
        "options = webdriver.ChromeOptions()\n",
        "options.add_argument('--no-sandbox')\n",
        "options.add_argument('--disable-dev-shm-usage')\n",
        "options.add_argument('--headless')\n",
        "driver = webdriver.Chrome('chromedriver', options = options)"
      ]
    },
    {
      "cell_type": "code",
      "execution_count": 5,
      "metadata": {
        "id": "NMVqX6AcIArH"
      },
      "outputs": [],
      "source": [
        "from selenium.webdriver.common.by import By\n",
        "#start scraping\n",
        "driver.get(\"https://www.amazon.in/Airdopes-141-Bluetooth-Wireless-Playtime/product-reviews/B09N3ZLB3T/ref=cm_cr_dp_d_show_all_btm?ie=UTF8&reviewerType=all_reviews\")\n",
        "page_request = requests.get(\"https://www.zomato.com/mumbai/pizza-caprina-marol/reviews\")\n",
        "page_source = driver.page_source\n",
        "page_soup = BeautifulSoup(page_source, 'lxml')\n",
        "#make a for loop appending reviews and ratings, then clicking the next page button\n",
        "#class name for reviews is \"sc-1hez2tp-0 sc-hLYIQQ WNBbV\"\n",
        "reviews_selector = page_soup.find_all('span', class_=\"a-size-base review-text review-text-content\")\n",
        "\n",
        "#class name for rating is \"sc-1q7bklc-1 cILgox\"\n",
        "ratings_selector = page_soup.find_all('span', class_=\"a-icon-alt\")"
      ]
    },
    {
      "cell_type": "code",
      "source": [
        "def collector(reviews, ratings):\n",
        "    collection = {}\n",
        "    for i in range(len(reviews)):\n",
        "        r = float(ratings[i].text[0])#converting string to float\n",
        "        collection[i] = (reviews[i].text, r)\n",
        "    return collection\n",
        "\n",
        "samples = collector(reviews_selector, ratings_selector)\n",
        "for i in samples: print(samples[i][1])"
      ],
      "metadata": {
        "colab": {
          "base_uri": "https://localhost:8080/"
        },
        "id": "VYSL2zQdbA_x",
        "outputId": "f22967fc-f302-4427-c500-7f6d8fdd96a3"
      },
      "execution_count": 6,
      "outputs": [
        {
          "output_type": "stream",
          "name": "stdout",
          "text": [
            "3.0\n",
            "4.0\n",
            "2.0\n",
            "2.0\n",
            "2.0\n",
            "4.0\n",
            "4.0\n",
            "4.0\n",
            "4.0\n",
            "1.0\n"
          ]
        }
      ]
    },
    {
      "cell_type": "code",
      "source": [
        "for i in range(5):\n",
        "    button = driver.find_element(By.CLASS_NAME, \"a-last\")\n",
        "    #button = page_soup.find('li', class_=\"a-last\")\n",
        "    button.click()\n",
        "    page_source = driver.page_source\n",
        "    page_soup = BeautifulSoup(page_source, 'lxml')\n",
        "    #make a for loop appending reviews and ratings, then clicking the next page button\n",
        "    #class name for reviews is \"sc-1hez2tp-0 sc-hLYIQQ WNBbV\"\n",
        "    reviews2 = page_soup.find_all('span', class_=\"a-size-base review-text review-text-content\")\n",
        "    final_reviews = []\n",
        "    for element in reviews2:\n",
        "        final = element.find('span')\n",
        "        final_reviews.append(final)\n",
        "    #class name for rating is \"sc-1q7bklc-1 cILgox\"\n",
        "    ratings2 = page_soup.find_all('span', class_=\"a-icon-alt\")\n",
        "    samples2 = collector(final_reviews, ratings2)\n",
        "    for i in samples2:\n",
        "         print(samples2[i][1])\n",
        "         print(samples2[i][0])\n",
        "    print(\"next page:\")"
      ],
      "metadata": {
        "colab": {
          "base_uri": "https://localhost:8080/"
        },
        "id": "294YgApvM6uZ",
        "outputId": "5d667130-5fbf-46c2-c48c-e09406ba506a"
      },
      "execution_count": 8,
      "outputs": [
        {
          "output_type": "stream",
          "name": "stdout",
          "text": [
            "3.0\n",
            "Design\n",
            "4.0\n",
            "I am a programmer with a taste for music. I listen to music like 10 hours a day so I know what I'm talking about.Pros:1. Good bass not so great but could go for it if you're not a bass lover.2. Acceptable vocal levels on defaults (if you don't use equalizer).3. Treble is terrible (for real).4. Weight and size are excellent. Sometimes while I almost forget whether I am wearing my earphones because I used to wear over-the-head headphones and recently switched to TWS (spoiler alert: big mistake).5. Charging case is good. Standby time is acceptable at this price range.6. Playback time is as advertised, 6 hours on single charge at 60% volume. This is also acceptable considering the price. Most TWS which offer 6 hours playtime start at 2499/-.Cons:1. I was sleeping on my bed and it slipped right out of my ear. Same thing happened while I was running on a treadmill at the gym. Full disclosure, I was running at 18 kmph on the treadmill. So I'm gonna say not suitable for gym.2. No ANC (active noise cancellation). I guess that's a fair trade at the price range. They gave you 6 hours playback by taking away ANC which costs extra for manufacturing.3. Don't drive your motorcycle wearing these, they will fly away in a second and you won't even notice it. Luckily I did because there was no traffic when I was driving.Overall a good purchase for a casual music listener but not so much into calling. I have a strong feeling these earbuds were designed by an introvert who doesn't like to talk on phone.\n",
            "2.0\n",
            "Worst product from boat ever purchased some noise occurred even when in idel mode\n",
            "4.0\n",
            "\n",
            "1.0\n",
            "Use product receive, not check properly from Amazon, defective product , one eardrop not working and touch also pathetic , sound quality zero , over all Amazon cheated customer and make money never ever buy from Amazon , ...\n",
            "1.0\n",
            "\n",
            "1.0\n",
            "This Airdopes 141 is good for first time user. Simply I am going to describe by its Pros and Cons.. Because I am reviewing it after 3 days..Pros:*Case is small and compact, so it's handy to use..*Sound quality is awesome despite the size of 8mm driver size.*At 60-70 volume label you can use it for 5-5:30 hrs at single charge of earbuds..*Case can give you backup charge for 38-40 hrs back up which is very good in terms of price..*Instant connect after opening the lid of case..*Bass is too good, in High volume you can feel the vibration of your ears..*Type C charger is there so it's good.*Light weight, so you can use it for long time..*Touch response of Play/Pause, Answering calls, Google assistant/Siri is good..*Distance is just for 10-12 meters*Passive Noise Cancellation is there.* Battery back is awesome.Cons:*Opposite person can't hear your voice properly if you in call because of it's mic. It seems to other person, that you are far away from your phone..*Sometimes right one is stop working.*Can't connect two devices simultaneously.*Charger quality is not so good, the type C pin does not stick properly to the charging point of case.. Like cheap quality..*Touch response of Next/Previous is not so responsive..I bought this product at ₹ 999/- and I received this product on 31st July, 2021 and I haven't charge the case till 4th August after daily use in moderate basis. But I think I have to charge on 5th August..\n",
            "1.0\n",
            "There is constant hissing noise that remains even when songs is not playing\n",
            "1.0\n",
            "Guys you must note this. When ever I play any video from gallery or YouTube. When I do backward oftenly it gets disconnected and gets reconnected. Not always but often. If any one noticed it please review it. Apart from that everything is good. The touch sensor will work only directly with finger if it gets covered then the touch won't works.\n",
            "1.0\n",
            "Worst product till now from boat, the sound quality is very badThe purpose of purchasing such product is to get great sound but sound quality is very roboticPlease don't waste your money 💰💰💰\n",
            "next page:\n",
            "3.0\n",
            "Video Player is loading.\n",
            "4.0\n",
            "-- About Amazon --I am highly disappointed from Amazon..1. Packaging was worst.2. Box of the product was broken and bad in shape.3. Seals of the box were opened.4. Case of the buds had scratches on it.5. Got delivered used product.-- About the Buds --1. Sound is not crystal clear. Treble sounds bassy. Sound is not balanced. Very bad for acoustics.2. Bass is okayish but distortion is noticeable in bass. And it sounds really bad.3. Overall sound quality doesn't worth 1299 price. Even my Nu Republic type-c earphones had better sound.4. Touch is bad. Sometimes action gets delayed.5. Touch the left buds two times for previous track is just useless. I can't go to the previous song at all because of the delay in action. It just restarts the song and that is itself hard to do. For Next track it works well.6. Biggest problem is single tap. There should not have been any action on single tap. I always end up pausing the song even on adjusting the buds.7. Battery is great. Buds lasted 6hr on continuous music. Also, the ASAP charge works flawlessly.8. I haven't tried the call quality.-- Conclusion --I will not recommend it, trust me, you will be disappointed. It's bad! Sound is not sharp and clear. It doesn't feel like a stereo at all.Go with realme buds, my brother is using them. They are compact with really good sound and superb bass (no distortion) battery is okay too 4-5hr.I am gonna return the product because sound is just not acceptable to me also the product seems used.The only things in which these buds excells are-1. Battery backup2. Charging speed3. Connectivity4. Tight fitting\n",
            "2.0\n",
            "There is some cracking sound in the left earbud after every time u pause the audio.\n",
            "2.0\n",
            "Super good sound no1\n",
            "2.0\n",
            "\n",
            "3.0\n",
            "Build quality is good, sound is fine but noise cancellation and voice call quality is really bad.\n",
            "3.0\n",
            "The earbuds look so pro and expensive. Feels good to touch too. Battery is okay. Insta Connection is good. But the Pairing sucks. It works as a monopod almost all the time. Both the earbuds fails to be synced with each other everytime. When it connects, it works for like 30 secs, after that one of the earbuds loses its connection and continue working as a monopod. The Bluetooth connectivity is so bad. The connection gets interfered after u walk like 5 or 6 feet from the connected device. Overall I'll say it's worth like 799 INR and that's just for the build quality. You can choose to buy this one if you like carrying the connected device all the time in your pocket.\n",
            "1.0\n",
            "Really unhappy with the buy and they won't even take it back.The sound quality is not upto the mark as per the drives mentioned.Expected more from a company like Boat.Didn't expect it to be this bad.\n",
            "5.0\n",
            "today I rcvd this boat airdopes and when I opened the box then I got surprised that box is looking as a already used and opened and when I open the airdopes box then Inside ,lots of scratches and dust.\n",
            "5.0\n",
            "\n",
            "next page:\n",
            "3.0\n",
            "Excellent battery backup, This is a fourth day from full charge. Good sound quality. And fast connectivity with phone and laptop.\n",
            "4.0\n",
            "Worth for this budget\n",
            "2.0\n",
            "Already used product\n",
            "5.0\n",
            "1 star for seller as they sent opened box with little scratches visible on the charging box.Sound quality is ok, bass is fine too, little humming noise which can be ignored.\n",
            "5.0\n",
            "While in driving mode it's not useful but 🎵 good sound not problem go for it. while in driving mode low volume that a - point\n",
            "5.0\n",
            "Quality Average,  But after using more than 30mins i am getting ear pain and I can feel that is producing some heat also. I am really uncomfortable with this after used 1 week. And I tried to return this only replacement is there. So I suggest people think before buying this Airpods 141TWS Earbuds.Sound clarity is also not great. Music lovers plZ avoid it completely.\n",
            "5.0\n",
            "Item received with broken seal and the product has scratches & marks on the battery cover. Exchange requested.\n",
            "1.0\n",
            "\n",
            "1.0\n",
            "Pros - 1. Earbuds are super comfortable in ears. They won't even shake even if you are in your bike in high speed. 2. The case has precise battery indicating lights which is a best thing. 3. Eartips are very smooth and comfortable. 4. Battery backup of the case is very good. I charge it once and use it 3-4 days(I use a single eardope a time). Battery backup of air dopes are avg. They give me 3-4 hours of battery backup in 70% volume. Cons(very few) - 1. the led lights in the eardope are cheap and they keep blinking for every 5 seconds. 2. The case is a bit larger, but not an issue since easy to carry. Overall my rating is 4/5Dec 3rd : after two months no issues. Its working absolutely fine.Jul 18th, 2022 : Left ear bud's magnetic power is gone and its not sticking to the charging place. So I put a paper on top of the case's cap to put pressure and charge.\n",
            "2.0\n",
            "\n",
            "next page:\n",
            "3.0\n",
            "I got this at a discount the during the prime day sale and at the point of writing this review, I've spent about a whole day with this product and the following is my review.Audio Quality: 8/10Battery life and charging: 10/10Noise cancellation: 3/10Comfort and fit: 8/10Pros:Quite good audio profile, adequate bass, good mids and highs.Extremely good battery life, lasts 6 hours with ease and the charging is very fast.The connectivity is super good, connects instantly the moment you open the case.The comfort and fit is very good, you can sleep with them and forget that you have earphones on.Cons:The microphone quality is not good, callers reported bad audio quality.The passive noise cancellation is not very effective at low volumes.There is no two point connectivity available. It'd have been appreciated.\n",
            "4.0\n",
            "Video Player is loading.\n",
            "2.0\n",
            "Don't even think of buying it's made of bad plastic the kids who loose thier things these are suitable for them as it's cheap after keeping on my ears for 5 mins my ears started paining I had got 2 returned it within 6 hours of delivery thanks to amazon who took it back and refunded my money. BOAT STOP MAKING CHEAP PRODUCT!!!\n",
            "5.0\n",
            "\n",
            "5.0\n",
            "Pros:1)Call clarity over earphones is mind-boggling, to say the least. If you are someone who spends hours on calls (business and/or personal), I can blindly recommend this to you right away, no qns asked.2)Well and truly handsfree, no *bands* attachedCons:1)Uncomfortable, esp in case of prolonged usage.2)Touch controls are a hit/miss. Often end up irritating you.3)Though music is a personal preference and choices vary from person to person, I truly believe this headset is not for music lovers.\n",
            "5.0\n",
            "Product is cheap in quality and also looks.There are some good points and many bad point.Good things are:1.it is budget range wireless earphones thats it.Bad points :1. There is some noise coming every few minutes. I dont know what it is.2. Connectivity : very poor. If kept idle outside of the box without using it , it gets disconnected and for connecting you will have to put earphones back in the box and take out. Thats d only way it gets connected. I dont know if thats what the right technique or not. But its annoying. And also either left or right keep gets disconnected anytime and again same procedure for that earphones.3. Sound quality: definitely not good. But if u want in budget range then its okay but again that sound i mentioned earlier is disturbing a lot.4. Main problem of the device is its touch sensor. When you adjust your earphone once it becomes loose in the ear. The song gets pause. Sensor touch control is good though it is again annoying that you will have to adkust or remove the earphones carefully else video or audio keeps getting paused or played.5. Buid quality: poor plastic box and earphone rubber and all quality wise its poor.6. Noise cancellation: beast mode makes no difference. Voice call also is not great. No significant difference or i may say poor voice call quality with noise cancellation.So summary is : i dont think it will last long may be not more than 6 months. Lets see.\n",
            "5.0\n",
            "\n",
            "1.0\n",
            "\n",
            "1.0\n",
            "I will keep this short and simple. Kindly note that I am reviewing this 48hrs into the purchase...Pros:-----1. Easy connectivity across various devices (yes, it does work with MS Teams!2. Sound is decent considering the price-range. No WOW factor though.3. Lightweight (I used it for 6-7 hrs straight without any ear strain)4. Looks cool! :)5. Fast charging is great!Cons:------1. Battery drains fast. Even with full charge it dint last more than 4-5 hrs of continuous usage.2. Cant not connect/pair with multiple devices at the same time.\n",
            "1.0\n",
            "\n",
            "next page:\n",
            "3.0\n",
            "Battery life on single charge says 6 hours on Amazon and it says 3 hours on Boat Website. This means that when battery life is mentioned, it is probably mentioned for single ear usage which is very unfair. So, for 3 hours that the website says, I get 45 to 75 minutes maximum. If your calls are lasting much longer than this, please look elsewhere. Every meeting I have it is so embarrassing to change the headset in the middle of the meeting saying charge is out. Not recommended for music in any case as the Bass is below average.\n",
            "4.0\n",
            "This is not a review for the sake of it, I'm writing this after using these for more than 2 weeks. I'll break the review down in points:• value for money: yes. This is absolute value for money, obviously not the best product but prolly the best product at this price.•sound quality: these are loud enough. Highs don't crack, mids are perfect, lows are clear enough. The bass is not exceptional but it's good enough, you won't be disappointed.• ergonomics: they're lightweight and that's good. They fit quite well, not perfect but that also depends on your ears, they provide additional moldings of different sizes so fit shall not be a problem for most people.One thing that's appreciable is the touch control, it's just so good to have it because pressing buttons would otherwise have only irritated your ears.•The carry/charging case: It's good enough, I wish it had more resistance in the lid, the lid has become kinda loose with use but it won't accidentally open up either.•Fast charging: that's a big deal, the earbuds get charged real quick.\n",
            "2.0\n",
            "Poor call quality as voice was not heard on calls. The LED light of one earpod was not flashing like the other side pod. I returned the product on first day of delivery itself. i guess fake products are in bigtime in circulation on amazon. Please do quality checks ensuring fakes are not being circulated! Its high time we question ourselves as to why big brands are offering products at high discounts of 70 to 80% on original MRP of 3 to 5k range. Its better to buy electronics from local stores with seal of purity/originality at a higher price!\n",
            "3.0\n",
            "\n",
            "4.0\n",
            "I have seen a lot of negative reviews for these earbuds however, these are not bad at all. They are really cheap at 999 INR and the build quality has taken a hit, however, what matters is sound quality which is stellar for this price. I already own a lot of earbuds ranging from 999 to 10k and these for the price are great.The battery life though not as good as claimed however, 5 hours on the earbuds and close to 30-34 hours with the case is much better than the competition.I only have one gripe with these and that has to be the eartips, it's sort of an oval shape and you'll need to find proper seal so try all the different ear tips given in the box.\n",
            "4.0\n",
            "Before I go into the review, let me be clear about my reason to buy. I basically wanted to try out the Truly Wireless earphones to see whether the fit into my lifestyle, that's why I went on to purchase this.Amazon as usual, prompt and proper delivery, and also a good packaging without any problem.The Case:The case is a bit large than what you anticipate after seeing the airpods which isn't a major issue. It can charge the Airdopes three times from 0 to 100. The hinge is bit flimsy but does the job right and the closing magnet is also sufficient. The hinge is addicting to play with though. :) The case doesn't have any physical button, just open it and it's ready to pair which can be irritating if you're just playing with it.The Earphones:Don't expect Seinheiser sound from a 1000 buck earphone, this is made clear. They sound below average but the volume is sufficient, the ear fit is snug and doesn't interfere if you sleep with it. The Earphones last about 3-4 hours continuous music or 5-6 hours if watching movie or YouTube on a single charge. The touch sensors are irritating but can live with it. Last don't ever buy it for attending calls. It doesn't do justice to it.Verdict: For 1000 rupees is it worth? Yes it is. Did it satisfy my entry of TWS in my lifestyle? Yes it did. Overall if you are one of a kind like me please go for it and you won't regret.And lastly it does give a premium feel if you wear it in public. xDThanks for reading my review.\n",
            "1.0\n",
            "I am writing a true review after around a week long use of these boat airdopes 141 ....CONS1. the mic is average and the voice feels a little modulated on the mic provided .2. the case is little bulky due to longer battery life but you will get used to it in about 2 to 3 days. The case quality is decent but the case lid feels like its built out of crappy plastic and doesnt feel robust or stable in hand.3. these airdopes are based on bluetooth v 5.0 and later and they will work great with all the devices having the same bluetooth version i.e v5.0 or newer however in case of older versions there is a lot of latency lag. I personally use these with my laptop that has v5.0 and they work great however when i connect them with my android phone which has bluetooth v 4.10 , the experience is horrendous ... there are many problems like latency lag,  voice breaks etc even when the bt v.50 is backwards compatible .... i experience this latency lag and voice break during calling , whatsapp calling and playing simple mobile games. Despite all this there is no problem while streaming songs on these airdopes.4. there is a lot of voice leakage if you use them on 100 percent volume both on laptop and mobile phones you will have to tweak them ... the voice is also kind of high so you will not be able to listen to anything on 100 percent anyhow .... 50 to 60 is an ideal level for all the movies and games as well as music.5. Your ears will hurt after prolonged usage of these if you dont select the right size of air caps ... 3 sizes are already provided inside the box.6. The biggest con while using these airdopes on windows is that you cannot use the airdopes and the inbuilt mic together .... windows doesnt allow it even if you try very hard to use both the mic and airdopes output speaker together Its a windows issue but is manageable .7.Another big problem is that the voice control option is absent on the airdopes and the volume cant be controlled from the airdopes ... you will have to control it from the device which is also a big problem .PROS-1. the sound quality and the bass are great .2. the battery life is great you can easily use them for 7 to 8 hours on continuous usage.3. They charge very quickly, in a jiffy.4. They feel even greater if you enable surround sound while using them on windows platform.5. the connectivity is great too ;as soon as you open the case they will automatically detect and connect to the available devices that you paired them with earlier within seconds.6. There is literally zero latency and zero lag on these while connected on the same bluetooth version .... i used these on my laptop and played all the games like cs go, valorant, gta 5, and other games but there is no issue while gaming or music.7.There is a support for mono audio and you can use one airdope at a time instead of using both.8.Boat has provided a year's warranty on these so they can be easily replaced in case of a damage if the damage occurs within the given time frame .Overall the product can be optimized a bit more but is still good to use now and is a decent purchase on this price point ; however better options are available if you intend to use it just for calling purpose , better go with something wired or something that comes with older bt versions if you intend to use them with devices with older bluetooth versions .\n",
            "1.0\n",
            "\n",
            "1.0\n",
            "Decent product. Fits comfortable in ears for long time. Environment noise cancellation works good. Sometimes there is a lag in getting connected to my iPad. One thing didn't like about it is the size of the case. It's light but way too big. It creates a mould when kept in pocket.Battery backup of 6 hours per charge is a myth. It can hardly last for 4 to 4.5 hours and not more than that.As my title says, you get what you pay for. It's a decent product for the price one. And better than comfort level of Airdopes 441\n",
            "4.0\n",
            "The best feature about this earphones is IWP (Instant Wake and Pair) technology. Once you open the lid of the case, the earphones connect to the phone/device. Followed by battery backup.These are good for listening to Music or binging on Videos. Definitely suitable for Workout with  their IPX4 rating.Very very bad for calls. Even though there is passive noise cancellation by virtue of their fit, the Mic(s) are very sensitive to surrounding noise. Don't pick these if you want to use them for calls and you want to use them in a noisy environment.The LED indicators are not flashy - an additional aircraft that I like.Allover a steal deal for the price and the stated purpose.Hope this helps your purchase decision! 👍\n",
            "next page:\n"
          ]
        }
      ]
    },
    {
      "cell_type": "code",
      "source": [
        "total_review=pd.DataFrame(samples2)"
      ],
      "metadata": {
        "id": "NFuFM2edp9Dx"
      },
      "execution_count": 9,
      "outputs": []
    },
    {
      "cell_type": "code",
      "source": [
        "total_review.to_csv('Review.csv')"
      ],
      "metadata": {
        "id": "6ke-py7mqNaq"
      },
      "execution_count": null,
      "outputs": []
    }
  ],
  "metadata": {
    "colab": {
      "collapsed_sections": [],
      "name": "amazon_sentiment_analysis.ipynb",
      "provenance": []
    },
    "kernelspec": {
      "display_name": "Python 3",
      "name": "python3"
    },
    "language_info": {
      "name": "python"
    }
  },
  "nbformat": 4,
  "nbformat_minor": 0
}